{
 "cells": [
  {
   "cell_type": "code",
   "execution_count": 1,
   "id": "b4d31827-8567-47b0-bc29-3e8cb5cb8688",
   "metadata": {},
   "outputs": [],
   "source": [
    "import pandas as pd\n",
    "import numpy as np\n",
    "import mlflow\n",
    "import mlflow.sklearn\n",
    "import dagshub\n",
    "import nbimporter"
   ]
  },
  {
   "cell_type": "code",
   "execution_count": 2,
   "id": "75f6631e-049a-49ee-afee-59060e596df4",
   "metadata": {},
   "outputs": [
    {
     "data": {
      "text/html": [
       "<pre style=\"white-space:pre;overflow-x:auto;line-height:normal;font-family:Menlo,'DejaVu Sans Mono',consolas,'Courier New',monospace\">Accessing as egval20\n",
       "</pre>\n"
      ],
      "text/plain": [
       "Accessing as egval20\n"
      ]
     },
     "metadata": {},
     "output_type": "display_data"
    },
    {
     "data": {
      "text/html": [
       "<pre style=\"white-space:pre;overflow-x:auto;line-height:normal;font-family:Menlo,'DejaVu Sans Mono',consolas,'Courier New',monospace\">Initialized MLflow to track repo <span style=\"color: #008000; text-decoration-color: #008000\">\"egval20/ml_Assignment1\"</span>\n",
       "</pre>\n"
      ],
      "text/plain": [
       "Initialized MLflow to track repo \u001b[32m\"egval20/ml_Assignment1\"\u001b[0m\n"
      ]
     },
     "metadata": {},
     "output_type": "display_data"
    },
    {
     "data": {
      "text/html": [
       "<pre style=\"white-space:pre;overflow-x:auto;line-height:normal;font-family:Menlo,'DejaVu Sans Mono',consolas,'Courier New',monospace\">Repository egval20/ml_Assignment1 initialized!\n",
       "</pre>\n"
      ],
      "text/plain": [
       "Repository egval20/ml_Assignment1 initialized!\n"
      ]
     },
     "metadata": {},
     "output_type": "display_data"
    },
    {
     "name": "stdout",
     "output_type": "stream",
     "text": [
      "(1460, 10)\n",
      "['GrLivArea', 'OverallQual', 'YearBuilt', 'BedroomAbvGr', 'FullBath', 'GarageCars', 'LotArea', 'BldgType', 'SaleCondition', 'SalePrice']\n",
      "['GrLivArea', 'OverallQual', 'YearBuilt', 'BedroomAbvGr', 'FullBath', 'GarageCars', 'LotArea', 'SalePrice']\n",
      "['BldgType', 'SaleCondition']\n",
      "[]\n",
      "(1303, 10)\n",
      "Index(['GrLivArea', 'OverallQual', 'YearBuilt', 'BedroomAbvGr', 'FullBath',\n",
      "       'GarageCars', 'LotArea', 'BldgType', 'SaleCondition', 'SalePrice'],\n",
      "      dtype='object')\n",
      "🏃 View run Feature_Selection_Model at: https://dagshub.com/egval20/ml_Assignment1.mlflow/#/experiments/0/runs/0758cea3d93a4992ae2164ffae454f67\n",
      "🧪 View experiment at: https://dagshub.com/egval20/ml_Assignment1.mlflow/#/experiments/0\n",
      "\n",
      "Constant Predictor:\n",
      "RMSE: 65913.11\n",
      "MAE: 50783.77\n",
      "R²: 0.0000\n",
      "Validation Metrics:\n",
      "RMSE: 65698.45\n",
      "MAE: 50239.81\n",
      "R²: -0.0208\n",
      "Performance Gap (Training - Validation):\n",
      "RMSE Gap: 214.67\n",
      "R² Gap: 0.0208\n",
      "\n",
      "Polynomial Regression (Degree 5):\n",
      "RMSE: 7403.42\n",
      "MAE: 3342.94\n",
      "R²: 0.9874\n",
      "Validation Metrics:\n",
      "RMSE: 588363227.34\n",
      "MAE: 108254137.59\n",
      "R²: -81871782.8925\n",
      "Performance Gap (Training - Validation):\n",
      "RMSE Gap: -588355823.92\n",
      "R² Gap: 81871783.8799\n",
      "\n",
      "Linear Regression:\n",
      "RMSE: 26841.45\n",
      "MAE: 20119.51\n",
      "R²: 0.8342\n",
      "Validation Metrics:\n",
      "RMSE: 29019.60\n",
      "MAE: 21429.81\n",
      "R²: 0.8008\n",
      "Performance Gap (Training - Validation):\n",
      "RMSE Gap: -2178.14\n",
      "R² Gap: 0.0333\n",
      "\n",
      "Ridge Regression:\n",
      "RMSE: 26841.51\n",
      "MAE: 20115.88\n",
      "R²: 0.8342\n",
      "Validation Metrics:\n",
      "RMSE: 29018.16\n",
      "MAE: 21429.26\n",
      "R²: 0.8008\n",
      "Performance Gap (Training - Validation):\n",
      "RMSE Gap: -2176.64\n",
      "R² Gap: 0.0333\n",
      "Logged Constant Predictor to MLflow as a separate experiment\n",
      "🏃 View run Constant Predictor at: https://dagshub.com/egval20/ml_Assignment1.mlflow/#/experiments/0/runs/328e2174ce9948de888e16d2b7030e9e\n",
      "🧪 View experiment at: https://dagshub.com/egval20/ml_Assignment1.mlflow/#/experiments/0\n",
      "Logged Polynomial Regression (Degree 5) to MLflow as a separate experiment\n",
      "🏃 View run Polynomial Regression Degree 5 at: https://dagshub.com/egval20/ml_Assignment1.mlflow/#/experiments/0/runs/62df68a795bc49b2a699a19ce022b4a3\n",
      "🧪 View experiment at: https://dagshub.com/egval20/ml_Assignment1.mlflow/#/experiments/0\n",
      "Logged Linear Regression to MLflow as a separate experiment\n",
      "🏃 View run Linear Regression at: https://dagshub.com/egval20/ml_Assignment1.mlflow/#/experiments/0/runs/559b71d4d88a456f99a23974458db645\n",
      "🧪 View experiment at: https://dagshub.com/egval20/ml_Assignment1.mlflow/#/experiments/0\n",
      "Logged Ridge Regression to MLflow as a separate experiment\n",
      "🏃 View run Ridge Regression at: https://dagshub.com/egval20/ml_Assignment1.mlflow/#/experiments/0/runs/04d09c375a0c4e41a7993c0406ed2197\n",
      "🧪 View experiment at: https://dagshub.com/egval20/ml_Assignment1.mlflow/#/experiments/0\n"
     ]
    }
   ],
   "source": [
    "%run model_experiment.ipynb"
   ]
  },
  {
   "cell_type": "code",
   "execution_count": 3,
   "id": "be15ae3b-3308-4567-a359-240baab86497",
   "metadata": {},
   "outputs": [
    {
     "name": "stdout",
     "output_type": "stream",
     "text": [
      "Test data shape: (1459, 80)\n",
      "(1459, 9)\n",
      "['GrLivArea', 'OverallQual', 'YearBuilt', 'BedroomAbvGr', 'FullBath', 'GarageCars', 'LotArea', 'BldgType', 'SaleCondition']\n",
      "['GrLivArea', 'OverallQual', 'YearBuilt', 'BedroomAbvGr', 'FullBath', 'GarageCars', 'LotArea']\n",
      "['BldgType', 'SaleCondition']\n",
      "[]\n",
      "Processed test data shape: (1459, 9)\n",
      "Processed test data columns: Index(['GrLivArea', 'OverallQual', 'YearBuilt', 'BedroomAbvGr', 'FullBath',\n",
      "       'GarageCars', 'LotArea', 'BldgType', 'SaleCondition'],\n",
      "      dtype='object')\n"
     ]
    }
   ],
   "source": [
    "test_data = pd.read_csv('test.csv')\n",
    "print(f\"Test data shape: {test_data.shape}\")\n",
    "test_ids = test_data['Id']\n",
    "\n",
    "X_test = test_data.copy()\n",
    "X_test = domain_knowledge_remove_columns(X_test, False)\n",
    "X_test = tranfer_ordinal(X_test)\n",
    "X_test = missing_value_hanlding(X_test)\n",
    "\n",
    "print(f\"Processed test data shape: {X_test.shape}\")\n",
    "print(f\"Processed test data columns: {X_test.columns}\")"
   ]
  },
  {
   "cell_type": "code",
   "execution_count": 4,
   "id": "c9363310-20c0-4a18-9180-f6ec758b8340",
   "metadata": {},
   "outputs": [
    {
     "name": "stdout",
     "output_type": "stream",
     "text": [
      "Ridge model trained successfully\n"
     ]
    }
   ],
   "source": [
    "X_train = X.drop('SalePrice', axis=1)\n",
    "y_train = X['SalePrice']\n",
    "\n",
    "ridge_model = properly_fitted_models['Ridge Regression']\n",
    "ridge_model.fit(X_train, y_train)\n",
    "print(\"Ridge model trained successfully\")"
   ]
  },
  {
   "cell_type": "code",
   "execution_count": 5,
   "id": "c4d1e561-4a8c-4803-9c70-5a9312a23b7c",
   "metadata": {},
   "outputs": [],
   "source": [
    "predictions = ridge_model.predict(X_test)\n",
    "\n",
    "submission = pd.DataFrame({\n",
    "    'Id': test_ids,\n",
    "    'SalePrice': predictions\n",
    "})"
   ]
  },
  {
   "cell_type": "code",
   "execution_count": 6,
   "id": "7ad6e40f-df5f-4d85-ad7d-88ad273f63b6",
   "metadata": {},
   "outputs": [
    {
     "name": "stdout",
     "output_type": "stream",
     "text": [
      "Created submission file with 1459 predictions\n",
      "     Id      SalePrice\n",
      "0  1461  125158.338119\n",
      "1  1462  163887.429894\n",
      "2  1463  183679.149238\n",
      "3  1464  195547.503903\n",
      "4  1465  196527.359047\n"
     ]
    }
   ],
   "source": [
    "submission.to_csv('ridge_submission.csv', index=False)\n",
    "print(f\"Created submission file with {len(submission)} predictions\")\n",
    "print(submission.head())"
   ]
  }
 ],
 "metadata": {
  "kernelspec": {
   "display_name": "ml2025",
   "language": "python",
   "name": "ml2025"
  },
  "language_info": {
   "codemirror_mode": {
    "name": "ipython",
    "version": 3
   },
   "file_extension": ".py",
   "mimetype": "text/x-python",
   "name": "python",
   "nbconvert_exporter": "python",
   "pygments_lexer": "ipython3",
   "version": "3.12.3"
  }
 },
 "nbformat": 4,
 "nbformat_minor": 5
}
