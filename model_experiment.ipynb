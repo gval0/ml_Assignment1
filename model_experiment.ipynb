{
 "cells": [
  {
   "cell_type": "code",
   "execution_count": 787,
   "id": "1fa47ba0-b534-469e-86ff-c011e2cb6436",
   "metadata": {},
   "outputs": [],
   "source": [
    "import pandas as pd\n",
    "import numpy as np\n",
    "import matplotlib.pyplot as plt\n",
    "import seaborn as sns\n",
    "from sklearn.preprocessing import StandardScaler, MinMaxScaler, RobustScaler, OneHotEncoder, LabelEncoder\n",
    "from sklearn.impute import SimpleImputer, KNNImputer\n",
    "from sklearn.experimental import enable_iterative_imputer\n",
    "from sklearn.impute import IterativeImputer\n",
    "import scipy.stats as stats\n",
    "import os\n",
    "import mlflow\n",
    "import mlflow.sklearn\n",
    "import pickle\n",
    "import dagshub\n",
    "from sklearn.base import BaseEstimator, TransformerMixin\n",
    "from scipy.stats import mstats\n",
    "from sklearn.preprocessing import OrdinalEncoder, OneHotEncoder\n",
    "from sklearn.ensemble import RandomForestRegressor\n",
    "from sklearn.metrics import mean_squared_error\n",
    "from sklearn.model_selection import cross_val_score\n",
    "from scipy.stats import skew\n",
    "from scipy.stats import zscore\n",
    "from sklearn.compose import ColumnTransformer\n",
    "from sklearn.preprocessing import StandardScaler, OneHotEncoder\n",
    "from sklearn.impute import SimpleImputer\n",
    "from sklearn.linear_model import LinearRegression, Ridge, Lasso, ElasticNet\n",
    "from sklearn.model_selection import train_test_split\n",
    "from sklearn.metrics import mean_absolute_error, mean_squared_error, r2_score\n",
    "from sklearn.pipeline import Pipeline\n",
    "from sklearn.preprocessing import PolynomialFeatures\n",
    "from sklearn.ensemble import RandomForestRegressor\n",
    "from sklearn.neural_network import MLPRegressor\n",
    "import matplotlib.pyplot as plt\n",
    "import pprint"
   ]
  },
  {
   "cell_type": "code",
   "execution_count": 788,
   "id": "3e2a0302-3f95-49d1-b965-b7df1690d080",
   "metadata": {},
   "outputs": [
    {
     "data": {
      "text/html": [
       "<pre style=\"white-space:pre;overflow-x:auto;line-height:normal;font-family:Menlo,'DejaVu Sans Mono',consolas,'Courier New',monospace\">Initialized MLflow to track repo <span style=\"color: #008000; text-decoration-color: #008000\">\"egval20/ml_Assignment1\"</span>\n",
       "</pre>\n"
      ],
      "text/plain": [
       "Initialized MLflow to track repo \u001b[32m\"egval20/ml_Assignment1\"\u001b[0m\n"
      ]
     },
     "metadata": {},
     "output_type": "display_data"
    },
    {
     "data": {
      "text/html": [
       "<pre style=\"white-space:pre;overflow-x:auto;line-height:normal;font-family:Menlo,'DejaVu Sans Mono',consolas,'Courier New',monospace\">Repository egval20/ml_Assignment1 initialized!\n",
       "</pre>\n"
      ],
      "text/plain": [
       "Repository egval20/ml_Assignment1 initialized!\n"
      ]
     },
     "metadata": {},
     "output_type": "display_data"
    }
   ],
   "source": [
    "# Download data, connect to dagshub\n",
    "dagshub.init(repo_owner='egval20', repo_name='ml_Assignment1', mlflow=True)\n",
    "\n",
    "mlflow.set_experiment('House Prices')\n",
    "mlflow.set_tracking_uri('https://dagshub.com/egval20/ml_Assignment1.mlflow')\n"
   ]
  },
  {
   "cell_type": "markdown",
   "id": "13ca1954-17fb-4ec0-bd1f-bd05b8286e3a",
   "metadata": {},
   "source": [
    "# Feature Selection"
   ]
  },
  {
   "cell_type": "markdown",
   "id": "653b8b56-81b3-48ca-b960-bc8c9e5828b0",
   "metadata": {},
   "source": [
    "Drop Id"
   ]
  },
  {
   "cell_type": "code",
   "execution_count": 789,
   "id": "18bc7ef7-e165-44dd-92d4-c09f147d5164",
   "metadata": {},
   "outputs": [],
   "source": [
    "def remove_columns(X, threshold = 0.9):\n",
    "    print(\"Original shape:\", X.shape)\n",
    "\n",
    "    X = X.drop(columns=[\"Id\"])\n",
    "    \n",
    "    cols_to_drop = []\n",
    "    for col in X.columns:\n",
    "        res = X[col].value_counts(normalize=True)\n",
    "        if not res.empty and res.iloc[0] >= threshold:\n",
    "            cols_to_drop.append(col)\n",
    "    X = X.drop(cols_to_drop, axis=1)\n",
    "    print(X.shape)\n",
    "\n",
    "    # many none\n",
    "    threshold = 0.95 * len(X)\n",
    "    X = X.dropna(axis=1, thresh=threshold)\n",
    "    print(X.shape)\n",
    "\n",
    "    # many zeros\n",
    "    zero_proportion = (X == 0).mean()\n",
    "    threshold_zero = 0.9\n",
    "    columns_to_drop = zero_proportion[zero_proportion >= threshold_zero].index\n",
    "    X = X.drop(columns=columns_to_drop)\n",
    "\n",
    "    print(f\"Updated shape: {X.shape}\")\n",
    "\n",
    "    X = X.loc[:, X.nunique() > 1]\n",
    "    print(X.shape)\n",
    "    return X"
   ]
  },
  {
   "cell_type": "code",
   "execution_count": 790,
   "id": "c096581b-2a75-454b-9c25-ed21cdeb2f98",
   "metadata": {},
   "outputs": [],
   "source": [
    "def domain_knowledge_remove_columns(X) :\n",
    "    X = X.drop([\"Neighborhood\", \"Condition1\", \"Condition2\", \"Exterior1st\", \"Exterior2nd\"], axis=1)\n",
    "\n",
    "    structural_features = ['GrLivArea', 'TotalBsmtSF', '1stFlrSF', '2ndFlrSF', 'BsmtFinSF1']\n",
    "    keep_structural = ['GrLivArea']\n",
    "\n",
    "    quality_features = ['OverallQual', 'ExterQual', 'KitchenQual', 'BsmtQual']\n",
    "    keep_quality = ['OverallQual']\n",
    "\n",
    "    time_features = ['YearBuilt', 'YearRemodAdd', 'MoSold', 'YrSold']\n",
    "    keep_time = ['YearBuilt']\n",
    "\n",
    "    count_features = ['BedroomAbvGr', 'FullBath', 'HalfBath', 'TotRmsAbvGrd', 'Fireplaces']\n",
    "    keep_counts = ['BedroomAbvGr', 'FullBath']\n",
    "\n",
    "    garage_features = ['GarageCars', 'GarageArea']\n",
    "    keep_garage = ['GarageCars']\n",
    "\n",
    "    external_features = ['LotArea', 'LotShape', 'LandContour', 'LotConfig', 'WoodDeckSF', 'OpenPorchSF', 'EnclosedPorch']\n",
    "    keep_external = ['LotArea']\n",
    "\n",
    "    categorical_features = ['MSSubClass', 'MSZoning', 'BldgType', 'HouseStyle', 'RoofStyle', 'Foundation', 'SaleType', 'SaleCondition']\n",
    "    keep_categorical = ['BldgType', 'SaleCondition']\n",
    "\n",
    "    sale_price = ['SalePrice']\n",
    "\n",
    "    features_to_keep = keep_structural + keep_quality + keep_time + keep_counts + keep_garage + keep_external + keep_categorical + sale_price\n",
    "    X = X[features_to_keep]\n",
    "    print(X.shape)\n",
    "    print(features_to_keep)\n",
    "    return X"
   ]
  },
  {
   "cell_type": "markdown",
   "id": "0047a52d-fdc4-4011-ad08-3e3cf7ea987f",
   "metadata": {},
   "source": [
    "# Feature Engineering"
   ]
  },
  {
   "cell_type": "code",
   "execution_count": 791,
   "id": "6bcd8bf5-1d2e-4bd0-a8b1-e00f1888c8c5",
   "metadata": {},
   "outputs": [],
   "source": [
    "def map_ordinal(df, features, mapping):\n",
    "    for feature in features:\n",
    "        df[feature] = df[feature].map(mapping).fillna(0)\n",
    "    return df"
   ]
  },
  {
   "cell_type": "code",
   "execution_count": 792,
   "id": "367dbcc0-9e2e-404d-a33f-805d66b39166",
   "metadata": {},
   "outputs": [],
   "source": [
    "def tranfer_ordinal(X):\n",
    "    numerical_features = X.select_dtypes(include=[\"int64\", \"float64\"]).columns.tolist()\n",
    "    categorical_features = X.select_dtypes(include=[\"object\"]).columns.tolist()\n",
    "\n",
    "    print(numerical_features)\n",
    "    print(categorical_features)\n",
    "\n",
    "    for column in categorical_features:\n",
    "        unique_categories = X[column].dropna().unique()\n",
    "        ordinal_mapping = {category: idx for idx, category in enumerate(sorted(unique_categories))}\n",
    "    \n",
    "        X[column] = X[column].map(ordinal_mapping)\n",
    "\n",
    "    print(X.select_dtypes(include=[\"object\"]).columns.tolist())\n",
    "    return X"
   ]
  },
  {
   "cell_type": "markdown",
   "id": "4caa1cc8-94d3-47b7-b7d0-03df3a68dc0d",
   "metadata": {},
   "source": [
    "### Outlier Handling"
   ]
  },
  {
   "cell_type": "code",
   "execution_count": 793,
   "id": "c1c367a4-bc83-47b0-a312-c17b08d04192",
   "metadata": {},
   "outputs": [],
   "source": [
    "def outlier_handling(X):\n",
    "    z_scores = np.abs(stats.zscore(X.select_dtypes(include=[np.number])))\n",
    "    X = X[(z_scores < 3).all(axis=1)]\n",
    "    return X"
   ]
  },
  {
   "cell_type": "markdown",
   "id": "35ab3960-e9fa-46ed-9d39-906faad190ac",
   "metadata": {},
   "source": [
    "### Handling Missing Values"
   ]
  },
  {
   "cell_type": "code",
   "execution_count": 794,
   "id": "a08aa93f-7922-4a48-8bbe-8f3fa30a8708",
   "metadata": {},
   "outputs": [],
   "source": [
    "def missing_value_hanlding(X):\n",
    "    X = X.fillna(X.median())\n",
    "    return X"
   ]
  },
  {
   "cell_type": "code",
   "execution_count": 795,
   "id": "6562e2f1-2abd-476c-ba17-fb7b97ba713c",
   "metadata": {},
   "outputs": [
    {
     "name": "stdout",
     "output_type": "stream",
     "text": [
      "🏃 View run Feature_Selection_Model at: https://dagshub.com/egval20/ml_Assignment1.mlflow/#/experiments/0/runs/f12ad488ef3d4d689d8cf4cea0110317\n",
      "🧪 View experiment at: https://dagshub.com/egval20/ml_Assignment1.mlflow/#/experiments/0\n"
     ]
    }
   ],
   "source": [
    "with mlflow.start_run(run_name=\"Feature_Selection_Model\"):\n",
    "    mlflow.log_param(\"initial_features_count\", train_data.shape[1] - 2)\n",
    "    mlflow.log_param(\"threshold_same_values\", threshold)\n",
    "    mlflow.log_param(\"threshold_missing_values\", 0.95)\n",
    "    mlflow.log_param(\"outlier_z_score_threshold\", 3)\n",
    "    mlflow.log_param(\"final_features_count\", X.shape[1])\n",
    "    mlflow.log_param(\"final_features\", list(X.columns))\n",
    "    mlflow.log_param(\"samples_after_filtering\", X.shape[0])\n",
    "    "
   ]
  },
  {
   "cell_type": "markdown",
   "id": "98a630df-5ad5-42aa-b61b-ca8c453f56d7",
   "metadata": {},
   "source": [
    "# Training"
   ]
  },
  {
   "cell_type": "code",
   "execution_count": 796,
   "id": "79047b0f-7c8e-4088-9ec9-c952f7d8599a",
   "metadata": {},
   "outputs": [
    {
     "name": "stdout",
     "output_type": "stream",
     "text": [
      "(1460, 10)\n",
      "['GrLivArea', 'OverallQual', 'YearBuilt', 'BedroomAbvGr', 'FullBath', 'GarageCars', 'LotArea', 'BldgType', 'SaleCondition', 'SalePrice']\n",
      "['GrLivArea', 'OverallQual', 'YearBuilt', 'BedroomAbvGr', 'FullBath', 'GarageCars', 'LotArea', 'SalePrice']\n",
      "['BldgType', 'SaleCondition']\n",
      "[]\n",
      "(1303, 10)\n",
      "Index(['GrLivArea', 'OverallQual', 'YearBuilt', 'BedroomAbvGr', 'FullBath',\n",
      "       'GarageCars', 'LotArea', 'BldgType', 'SaleCondition', 'SalePrice'],\n",
      "      dtype='object')\n"
     ]
    }
   ],
   "source": [
    "# Import Data\n",
    "train_data = pd.read_csv('train.csv')\n",
    "test_data = pd.read_csv('test.csv')\n",
    "\n",
    "X = train_data.copy()\n",
    "X = domain_knowledge_remove_columns(X)\n",
    "X = tranfer_ordinal(X)\n",
    "X = outlier_handling(X)\n",
    "X = missing_value_hanlding(X)\n",
    "print(X.shape)\n",
    "print(X.columns)"
   ]
  },
  {
   "cell_type": "code",
   "execution_count": 799,
   "id": "d372e181-7752-4a9d-87a7-8bdf7c481635",
   "metadata": {},
   "outputs": [
    {
     "name": "stdout",
     "output_type": "stream",
     "text": [
      "'Name: Polynomial Regression (Degree 5)'\n",
      "{'MAE': 47863796.525396064,\n",
      " 'MSE': 4.002111975789436e+16,\n",
      " 'R2': -9465256.77367763,\n",
      " 'RMSE': 200052792.427135}\n",
      "'Name: Random Forest (Deep Trees)'\n",
      "{'MAE': 18492.960993431854,\n",
      " 'MSE': 750075770.4480399,\n",
      " 'R2': 0.8226021520629716,\n",
      " 'RMSE': 27387.5112131066}\n",
      "'Name: Neural Network (Complex)'\n",
      "{'MAE': 17544.647367488193,\n",
      " 'MSE': 659865470.3582209,\n",
      " 'R2': 0.8439374807433372,\n",
      " 'RMSE': 25687.846744291764}\n"
     ]
    }
   ],
   "source": [
    "preprocessor = Pipeline(steps=[\n",
    "    ('imputer', SimpleImputer(strategy='median')),\n",
    "    ('scaler', StandardScaler())\n",
    "])\n",
    "\n",
    "models = {\n",
    "    \"Linear Regression\": LinearRegression(),\n",
    "    \"Ridge Regression\": Ridge(alpha=1.0),\n",
    "    \"Lasso Regression\": Lasso(alpha=0.1),\n",
    "    \"ElasticNet\": ElasticNet(alpha=0.1, l1_ratio=0.5)\n",
    "}\n",
    "\n",
    "overfitting_models = {\n",
    "    \"Polynomial Regression (Degree 5)\": Pipeline([\n",
    "        ('poly', PolynomialFeatures(degree=5)),\n",
    "        ('scaler', StandardScaler()),\n",
    "        ('linear', LinearRegression())\n",
    "    ]),\n",
    "    \n",
    "    \"Random Forest (Deep Trees)\": RandomForestRegressor(\n",
    "        n_estimators=100,\n",
    "        max_depth=None, \n",
    "        min_samples_split=2, \n",
    "        min_samples_leaf=1,\n",
    "        max_features=None, \n",
    "        random_state=42\n",
    "    ),\n",
    "    \n",
    "    \"Neural Network (Complex)\": MLPRegressor(\n",
    "        hidden_layer_sizes=(100, 100, 100),\n",
    "        max_iter=1000,\n",
    "        activation='relu',\n",
    "        solver='adam',\n",
    "        random_state=42\n",
    "    )\n",
    "}\n",
    "\n",
    "\n",
    "results = {}\n",
    "\n",
    "X_features = X.drop('SalePrice', axis=1)\n",
    "y = X['SalePrice']\n",
    "\n",
    "# Train-test split\n",
    "X_train, X_val, y_train, y_val = train_test_split(X_features, y, test_size=0.2, random_state=42)\n",
    "\n",
    "for name, model in overfitting_models.items():\n",
    "    pipeline = Pipeline([\n",
    "        (\"preprocess\", preprocessor),\n",
    "        (\"model\", model)\n",
    "    ])\n",
    "    \n",
    "    pipeline.fit(X_train, y_train)\n",
    "    y_pred = pipeline.predict(X_val)\n",
    "    \n",
    "    # Evaluate the model\n",
    "    mae = mean_absolute_error(y_val, y_pred)\n",
    "    mse = mean_squared_error(y_val, y_pred)\n",
    "    rmse = np.sqrt(mse)\n",
    "    r2 = r2_score(y_val, y_pred)\n",
    "    \n",
    "    results[name] = {\n",
    "        'MAE': mae,\n",
    "        'MSE': mse,\n",
    "        'RMSE': rmse,\n",
    "        'R2': r2\n",
    "    }\n",
    "    \n",
    "    pprint.pprint(f\"Name: {name}\")\n",
    "    pprint.pprint(results[name])"
   ]
  },
  {
   "cell_type": "code",
   "execution_count": null,
   "id": "adc5b5f3-59ca-4c90-b6a2-d403f31d34b6",
   "metadata": {},
   "outputs": [],
   "source": []
  }
 ],
 "metadata": {
  "kernelspec": {
   "display_name": "ml2025",
   "language": "python",
   "name": "ml2025"
  },
  "language_info": {
   "codemirror_mode": {
    "name": "ipython",
    "version": 3
   },
   "file_extension": ".py",
   "mimetype": "text/x-python",
   "name": "python",
   "nbconvert_exporter": "python",
   "pygments_lexer": "ipython3",
   "version": "3.12.3"
  }
 },
 "nbformat": 4,
 "nbformat_minor": 5
}
