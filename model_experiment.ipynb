{
 "cells": [
  {
   "cell_type": "code",
   "execution_count": 1,
   "id": "1fa47ba0-b534-469e-86ff-c011e2cb6436",
   "metadata": {},
   "outputs": [],
   "source": [
    "import pandas as pd\n",
    "import numpy as np\n",
    "import matplotlib.pyplot as plt\n",
    "import seaborn as sns\n",
    "from sklearn.preprocessing import StandardScaler, MinMaxScaler, RobustScaler, OneHotEncoder, LabelEncoder\n",
    "from sklearn.impute import SimpleImputer, KNNImputer\n",
    "from sklearn.experimental import enable_iterative_imputer\n",
    "from sklearn.impute import IterativeImputer\n",
    "import scipy.stats as stats\n",
    "import os\n",
    "import mlflow\n",
    "import mlflow.sklearn\n",
    "import pickle\n",
    "import dagshub\n",
    "from sklearn.base import BaseEstimator, TransformerMixin\n",
    "from scipy.stats import mstats\n",
    "from sklearn.preprocessing import OrdinalEncoder, OneHotEncoder\n",
    "from sklearn.ensemble import RandomForestRegressor\n",
    "from sklearn.metrics import mean_squared_error\n",
    "from sklearn.model_selection import cross_val_score\n",
    "from scipy.stats import skew\n",
    "from scipy.stats import zscore\n",
    "from sklearn.compose import ColumnTransformer\n",
    "from sklearn.preprocessing import StandardScaler, OneHotEncoder\n",
    "from sklearn.impute import SimpleImputer\n",
    "from sklearn.linear_model import LinearRegression, Ridge, Lasso, ElasticNet\n",
    "from sklearn.model_selection import train_test_split\n",
    "from sklearn.metrics import mean_absolute_error, mean_squared_error, r2_score\n",
    "from sklearn.pipeline import Pipeline\n",
    "from sklearn.preprocessing import PolynomialFeatures\n",
    "from sklearn.ensemble import RandomForestRegressor\n",
    "from sklearn.neural_network import MLPRegressor\n",
    "import matplotlib.pyplot as plt\n",
    "import pprint\n",
    "from sklearn.dummy import DummyRegressor\n",
    "from sklearn.tree import DecisionTreeRegressor\n",
    "from sklearn.ensemble import GradientBoostingRegressor\n",
    "from sklearn.model_selection import learning_curve\n",
    "import re"
   ]
  },
  {
   "cell_type": "code",
   "execution_count": 2,
   "id": "3e2a0302-3f95-49d1-b965-b7df1690d080",
   "metadata": {},
   "outputs": [
    {
     "data": {
      "text/html": [
       "<pre style=\"white-space:pre;overflow-x:auto;line-height:normal;font-family:Menlo,'DejaVu Sans Mono',consolas,'Courier New',monospace\">Accessing as egval20\n",
       "</pre>\n"
      ],
      "text/plain": [
       "Accessing as egval20\n"
      ]
     },
     "metadata": {},
     "output_type": "display_data"
    },
    {
     "data": {
      "text/html": [
       "<pre style=\"white-space:pre;overflow-x:auto;line-height:normal;font-family:Menlo,'DejaVu Sans Mono',consolas,'Courier New',monospace\">Initialized MLflow to track repo <span style=\"color: #008000; text-decoration-color: #008000\">\"egval20/ml_Assignment1\"</span>\n",
       "</pre>\n"
      ],
      "text/plain": [
       "Initialized MLflow to track repo \u001b[32m\"egval20/ml_Assignment1\"\u001b[0m\n"
      ]
     },
     "metadata": {},
     "output_type": "display_data"
    },
    {
     "data": {
      "text/html": [
       "<pre style=\"white-space:pre;overflow-x:auto;line-height:normal;font-family:Menlo,'DejaVu Sans Mono',consolas,'Courier New',monospace\">Repository egval20/ml_Assignment1 initialized!\n",
       "</pre>\n"
      ],
      "text/plain": [
       "Repository egval20/ml_Assignment1 initialized!\n"
      ]
     },
     "metadata": {},
     "output_type": "display_data"
    }
   ],
   "source": [
    "# Download data, connect to dagshub\n",
    "dagshub.init(repo_owner='egval20', repo_name='ml_Assignment1', mlflow=True)\n",
    "\n",
    "mlflow.set_experiment('House Prices')\n",
    "mlflow.set_tracking_uri('https://dagshub.com/egval20/ml_Assignment1.mlflow')\n"
   ]
  },
  {
   "cell_type": "markdown",
   "id": "13ca1954-17fb-4ec0-bd1f-bd05b8286e3a",
   "metadata": {},
   "source": [
    "# Feature Selection"
   ]
  },
  {
   "cell_type": "markdown",
   "id": "653b8b56-81b3-48ca-b960-bc8c9e5828b0",
   "metadata": {},
   "source": [
    "Drop Id"
   ]
  },
  {
   "cell_type": "code",
   "execution_count": 5,
   "id": "18bc7ef7-e165-44dd-92d4-c09f147d5164",
   "metadata": {},
   "outputs": [],
   "source": [
    "def remove_columns(X, threshold = 0.9):\n",
    "    print(\"Original shape:\", X.shape)\n",
    "\n",
    "    X = X.drop(columns=[\"Id\"])\n",
    "    \n",
    "    cols_to_drop = []\n",
    "    for col in X.columns:\n",
    "        res = X[col].value_counts(normalize=True)\n",
    "        if not res.empty and res.iloc[0] >= threshold:\n",
    "            cols_to_drop.append(col)\n",
    "    X = X.drop(cols_to_drop, axis=1)\n",
    "    print(X.shape)\n",
    "\n",
    "    # many none\n",
    "    threshold = 0.95 * len(X)\n",
    "    X = X.dropna(axis=1, thresh=threshold)\n",
    "    print(X.shape)\n",
    "\n",
    "    # many zeros\n",
    "    zero_proportion = (X == 0).mean()\n",
    "    threshold_zero = 0.9\n",
    "    columns_to_drop = zero_proportion[zero_proportion >= threshold_zero].index\n",
    "    X = X.drop(columns=columns_to_drop)\n",
    "\n",
    "    print(f\"Updated shape: {X.shape}\")\n",
    "\n",
    "    X = X.loc[:, X.nunique() > 1]\n",
    "    print(X.shape)\n",
    "    return X"
   ]
  },
  {
   "cell_type": "code",
   "execution_count": 6,
   "id": "c096581b-2a75-454b-9c25-ed21cdeb2f98",
   "metadata": {},
   "outputs": [],
   "source": [
    "def domain_knowledge_remove_columns(X, is_train) :\n",
    "    X = X.drop([\"Neighborhood\", \"Condition1\", \"Condition2\", \"Exterior1st\", \"Exterior2nd\"], axis=1)\n",
    "\n",
    "    structural_features = ['GrLivArea', 'TotalBsmtSF', '1stFlrSF', '2ndFlrSF', 'BsmtFinSF1']\n",
    "    keep_structural = ['GrLivArea']\n",
    "\n",
    "    quality_features = ['OverallQual', 'ExterQual', 'KitchenQual', 'BsmtQual']\n",
    "    keep_quality = ['OverallQual']\n",
    "\n",
    "    time_features = ['YearBuilt', 'YearRemodAdd', 'MoSold', 'YrSold']\n",
    "    keep_time = ['YearBuilt']\n",
    "\n",
    "    count_features = ['BedroomAbvGr', 'FullBath', 'HalfBath', 'TotRmsAbvGrd', 'Fireplaces']\n",
    "    keep_counts = ['BedroomAbvGr', 'FullBath']\n",
    "\n",
    "    garage_features = ['GarageCars', 'GarageArea']\n",
    "    keep_garage = ['GarageCars']\n",
    "\n",
    "    external_features = ['LotArea', 'LotShape', 'LandContour', 'LotConfig', 'WoodDeckSF', 'OpenPorchSF', 'EnclosedPorch']\n",
    "    keep_external = ['LotArea']\n",
    "\n",
    "    categorical_features = ['MSSubClass', 'MSZoning', 'BldgType', 'HouseStyle', 'RoofStyle', 'Foundation', 'SaleType', 'SaleCondition']\n",
    "    keep_categorical = ['BldgType', 'SaleCondition']\n",
    "\n",
    "    if is_train :\n",
    "        sale_price = ['SalePrice']\n",
    "    else :\n",
    "        sale_price = []\n",
    "\n",
    "    features_to_keep = keep_structural + keep_quality + keep_time + keep_counts + keep_garage + keep_external + keep_categorical + sale_price\n",
    "    X = X[features_to_keep]\n",
    "    print(X.shape)\n",
    "    print(features_to_keep)\n",
    "    return X"
   ]
  },
  {
   "cell_type": "markdown",
   "id": "0047a52d-fdc4-4011-ad08-3e3cf7ea987f",
   "metadata": {},
   "source": [
    "# Feature Engineering"
   ]
  },
  {
   "cell_type": "code",
   "execution_count": 8,
   "id": "6bcd8bf5-1d2e-4bd0-a8b1-e00f1888c8c5",
   "metadata": {},
   "outputs": [],
   "source": [
    "def map_ordinal(df, features, mapping):\n",
    "    for feature in features:\n",
    "        df[feature] = df[feature].map(mapping).fillna(0)\n",
    "    return df"
   ]
  },
  {
   "cell_type": "code",
   "execution_count": 9,
   "id": "367dbcc0-9e2e-404d-a33f-805d66b39166",
   "metadata": {},
   "outputs": [],
   "source": [
    "def tranfer_ordinal(X):\n",
    "    numerical_features = X.select_dtypes(include=[\"int64\", \"float64\"]).columns.tolist()\n",
    "    categorical_features = X.select_dtypes(include=[\"object\"]).columns.tolist()\n",
    "\n",
    "    print(numerical_features)\n",
    "    print(categorical_features)\n",
    "\n",
    "    for column in categorical_features:\n",
    "        unique_categories = X[column].dropna().unique()\n",
    "        ordinal_mapping = {category: idx for idx, category in enumerate(sorted(unique_categories))}\n",
    "    \n",
    "        X[column] = X[column].map(ordinal_mapping)\n",
    "\n",
    "    print(X.select_dtypes(include=[\"object\"]).columns.tolist())\n",
    "    return X"
   ]
  },
  {
   "cell_type": "markdown",
   "id": "4caa1cc8-94d3-47b7-b7d0-03df3a68dc0d",
   "metadata": {},
   "source": [
    "### Outlier Handling"
   ]
  },
  {
   "cell_type": "code",
   "execution_count": 11,
   "id": "c1c367a4-bc83-47b0-a312-c17b08d04192",
   "metadata": {},
   "outputs": [],
   "source": [
    "def outlier_handling(X):\n",
    "    z_scores = np.abs(stats.zscore(X.select_dtypes(include=[np.number])))\n",
    "    X = X[(z_scores < 3).all(axis=1)]\n",
    "    return X"
   ]
  },
  {
   "cell_type": "markdown",
   "id": "35ab3960-e9fa-46ed-9d39-906faad190ac",
   "metadata": {},
   "source": [
    "### Handling Missing Values"
   ]
  },
  {
   "cell_type": "code",
   "execution_count": 13,
   "id": "a08aa93f-7922-4a48-8bbe-8f3fa30a8708",
   "metadata": {},
   "outputs": [],
   "source": [
    "def missing_value_hanlding(X):\n",
    "    X = X.fillna(X.median())\n",
    "    return X"
   ]
  },
  {
   "cell_type": "markdown",
   "id": "98a630df-5ad5-42aa-b61b-ca8c453f56d7",
   "metadata": {},
   "source": [
    "# Training"
   ]
  },
  {
   "cell_type": "code",
   "execution_count": 15,
   "id": "79047b0f-7c8e-4088-9ec9-c952f7d8599a",
   "metadata": {
    "scrolled": true
   },
   "outputs": [
    {
     "name": "stdout",
     "output_type": "stream",
     "text": [
      "(1460, 10)\n",
      "['GrLivArea', 'OverallQual', 'YearBuilt', 'BedroomAbvGr', 'FullBath', 'GarageCars', 'LotArea', 'BldgType', 'SaleCondition', 'SalePrice']\n",
      "['GrLivArea', 'OverallQual', 'YearBuilt', 'BedroomAbvGr', 'FullBath', 'GarageCars', 'LotArea', 'SalePrice']\n",
      "['BldgType', 'SaleCondition']\n",
      "[]\n",
      "(1303, 10)\n",
      "Index(['GrLivArea', 'OverallQual', 'YearBuilt', 'BedroomAbvGr', 'FullBath',\n",
      "       'GarageCars', 'LotArea', 'BldgType', 'SaleCondition', 'SalePrice'],\n",
      "      dtype='object')\n"
     ]
    }
   ],
   "source": [
    "# Import Data\n",
    "train_data = pd.read_csv('train.csv')\n",
    "test_data = pd.read_csv('test.csv')\n",
    "\n",
    "X = train_data.copy()\n",
    "X = domain_knowledge_remove_columns(X, True)\n",
    "X = tranfer_ordinal(X)\n",
    "X = outlier_handling(X)\n",
    "X = missing_value_hanlding(X)\n",
    "print(X.shape)\n",
    "print(X.columns)"
   ]
  },
  {
   "cell_type": "code",
   "execution_count": 16,
   "id": "6562e2f1-2abd-476c-ba17-fb7b97ba713c",
   "metadata": {},
   "outputs": [
    {
     "name": "stdout",
     "output_type": "stream",
     "text": [
      "🏃 View run Feature_Selection_Model at: https://dagshub.com/egval20/ml_Assignment1.mlflow/#/experiments/0/runs/1946d7323cd0422dbb4cb8dcaefa7fc7\n",
      "🧪 View experiment at: https://dagshub.com/egval20/ml_Assignment1.mlflow/#/experiments/0\n"
     ]
    }
   ],
   "source": [
    "with mlflow.start_run(run_name=\"Feature_Selection_Model\"):\n",
    "    mlflow.log_param(\"initial_features_count\", train_data.shape[1] - 2)\n",
    "    mlflow.log_param(\"threshold_same_values\", 0.9)\n",
    "    mlflow.log_param(\"threshold_missing_values\", 0.95)\n",
    "    mlflow.log_param(\"outlier_z_score_threshold\", 3)\n",
    "    mlflow.log_param(\"final_features_count\", X.shape[1])\n",
    "    mlflow.log_param(\"final_features\", list(X.columns))\n",
    "    mlflow.log_param(\"samples_after_filtering\", X.shape[0])\n",
    "    "
   ]
  },
  {
   "cell_type": "code",
   "execution_count": 17,
   "id": "96fb7998-ab77-4312-ba01-44e50d55c55a",
   "metadata": {},
   "outputs": [],
   "source": [
    "X_features = X.drop('SalePrice', axis=1)\n",
    "y = X['SalePrice']\n",
    "\n",
    "X_train, X_val, y_train, y_val = train_test_split(X_features, y, test_size=0.2, random_state=42)"
   ]
  },
  {
   "cell_type": "code",
   "execution_count": 18,
   "id": "5bae791f-8142-49b0-976e-c171a194b208",
   "metadata": {},
   "outputs": [],
   "source": [
    "preprocessor = Pipeline(steps=[\n",
    "    ('imputer', SimpleImputer(strategy='median')),\n",
    "    ('scaler', StandardScaler())\n",
    "])"
   ]
  },
  {
   "cell_type": "code",
   "execution_count": 19,
   "id": "bb3d0235-8880-43f7-97e0-0e16bfa6cf6e",
   "metadata": {},
   "outputs": [],
   "source": [
    "underfitting_models = {\n",
    "    \"Constant Predictor\": Pipeline([\n",
    "        ('preprocessor', preprocessor),\n",
    "        ('model', DummyRegressor(strategy='constant', constant=y_train.mean()))\n",
    "    ])\n",
    "}"
   ]
  },
  {
   "cell_type": "code",
   "execution_count": 20,
   "id": "9f521c40-8124-4233-b19f-d07761b348fc",
   "metadata": {},
   "outputs": [],
   "source": [
    "properly_fitted_models = {\n",
    "    \"Linear Regression\": Pipeline([\n",
    "        ('preprocessor', preprocessor),\n",
    "        ('model', LinearRegression())\n",
    "    ]),\n",
    "    \n",
    "    \"Ridge Regression\": Pipeline([\n",
    "        ('preprocessor', preprocessor),\n",
    "        ('model', Ridge(alpha=1.0))\n",
    "    ])\n",
    "}"
   ]
  },
  {
   "cell_type": "code",
   "execution_count": 21,
   "id": "f71fa03b-a5ef-4f71-8ee0-bb9c333213c1",
   "metadata": {},
   "outputs": [],
   "source": [
    "overfitting_models = {\n",
    "    \"Polynomial Regression (Degree 5)\": Pipeline([\n",
    "        ('preprocessor', preprocessor),\n",
    "        ('poly', PolynomialFeatures(degree=5)),\n",
    "        ('model', LinearRegression())\n",
    "    ])\n",
    "}"
   ]
  },
  {
   "cell_type": "code",
   "execution_count": 22,
   "id": "980cad11-8422-4a3e-83c6-de77ecf38e84",
   "metadata": {},
   "outputs": [],
   "source": [
    "def evaluate_models(models_dict, X_train, y_train, X_val, y_val):\n",
    "    results = {}\n",
    "    \n",
    "    for name, pipeline in models_dict.items():\n",
    "        pipeline.fit(X_train, y_train)\n",
    "        \n",
    "        y_train_pred = pipeline.predict(X_train)\n",
    "        y_val_pred = pipeline.predict(X_val)\n",
    "        \n",
    "        train_metrics = {\n",
    "            'MAE': mean_absolute_error(y_train, y_train_pred),\n",
    "            'MSE': mean_squared_error(y_train, y_train_pred),\n",
    "            'RMSE': np.sqrt(mean_squared_error(y_train, y_train_pred)),\n",
    "            'R2': r2_score(y_train, y_train_pred)\n",
    "        }\n",
    "        val_metrics = {\n",
    "            'MAE': mean_absolute_error(y_val, y_val_pred),\n",
    "            'MSE': mean_squared_error(y_val, y_val_pred),\n",
    "            'RMSE': np.sqrt(mean_squared_error(y_val, y_val_pred)),\n",
    "            'R2': r2_score(y_val, y_val_pred)\n",
    "        }\n",
    "        overfit_gap = {\n",
    "            'MAE_gap': train_metrics['MAE'] - val_metrics['MAE'],\n",
    "            'MSE_gap': train_metrics['MSE'] - val_metrics['MSE'],\n",
    "            'RMSE_gap': train_metrics['RMSE'] - val_metrics['RMSE'],\n",
    "            'R2_gap': train_metrics['R2'] - val_metrics['R2']\n",
    "        }\n",
    "        results[name] = {\n",
    "            'train': train_metrics,\n",
    "            'validation': val_metrics,\n",
    "            'gap': overfit_gap\n",
    "        }\n",
    "    return results"
   ]
  },
  {
   "cell_type": "code",
   "execution_count": 23,
   "id": "dff371bb-0820-4dda-a95c-fa6ca41618a0",
   "metadata": {},
   "outputs": [],
   "source": [
    "underfit_results = evaluate_models(underfitting_models, X_train, y_train, X_val, y_val)\n",
    "proper_results = evaluate_models(properly_fitted_models, X_train, y_train, X_val, y_val)\n",
    "overfit_results = evaluate_models(overfitting_models, X_train, y_train, X_val, y_val)"
   ]
  },
  {
   "cell_type": "code",
   "execution_count": 24,
   "id": "bfbc0a4f-d529-4493-be39-5655f69d02d8",
   "metadata": {},
   "outputs": [],
   "source": [
    "def print_model_evaluation_results(results):\n",
    "    for name, metrics in results.items():\n",
    "        print(f\"\\n{name}:\")\n",
    "        print(f\"RMSE: {metrics['train']['RMSE']:.2f}\")\n",
    "        print(f\"MAE: {metrics['train']['MAE']:.2f}\")\n",
    "        print(f\"R²: {metrics['train']['R2']:.4f}\")\n",
    "        print(f\"Validation Metrics:\")\n",
    "        print(f\"RMSE: {metrics['validation']['RMSE']:.2f}\")\n",
    "        print(f\"MAE: {metrics['validation']['MAE']:.2f}\")\n",
    "        print(f\"R²: {metrics['validation']['R2']:.4f}\")\n",
    "        print(f\"Performance Gap (Training - Validation):\")\n",
    "        print(f\"RMSE Gap: {metrics['gap']['RMSE_gap']:.2f}\")\n",
    "        print(f\"R² Gap: {metrics['gap']['R2_gap']:.4f}\")"
   ]
  },
  {
   "cell_type": "code",
   "execution_count": 25,
   "id": "050f68c7-3a70-4a5a-b74f-33a4fdc008a7",
   "metadata": {},
   "outputs": [
    {
     "name": "stdout",
     "output_type": "stream",
     "text": [
      "\n",
      "Constant Predictor:\n",
      "RMSE: 65913.11\n",
      "MAE: 50783.77\n",
      "R²: 0.0000\n",
      "Validation Metrics:\n",
      "RMSE: 65698.45\n",
      "MAE: 50239.81\n",
      "R²: -0.0208\n",
      "Performance Gap (Training - Validation):\n",
      "RMSE Gap: 214.67\n",
      "R² Gap: 0.0208\n",
      "\n",
      "Polynomial Regression (Degree 5):\n",
      "RMSE: 7403.42\n",
      "MAE: 3342.94\n",
      "R²: 0.9874\n",
      "Validation Metrics:\n",
      "RMSE: 588363227.34\n",
      "MAE: 108254137.59\n",
      "R²: -81871782.8925\n",
      "Performance Gap (Training - Validation):\n",
      "RMSE Gap: -588355823.92\n",
      "R² Gap: 81871783.8799\n",
      "\n",
      "Linear Regression:\n",
      "RMSE: 26841.45\n",
      "MAE: 20119.51\n",
      "R²: 0.8342\n",
      "Validation Metrics:\n",
      "RMSE: 29019.60\n",
      "MAE: 21429.81\n",
      "R²: 0.8008\n",
      "Performance Gap (Training - Validation):\n",
      "RMSE Gap: -2178.14\n",
      "R² Gap: 0.0333\n",
      "\n",
      "Ridge Regression:\n",
      "RMSE: 26841.51\n",
      "MAE: 20115.88\n",
      "R²: 0.8342\n",
      "Validation Metrics:\n",
      "RMSE: 29018.16\n",
      "MAE: 21429.26\n",
      "R²: 0.8008\n",
      "Performance Gap (Training - Validation):\n",
      "RMSE Gap: -2176.64\n",
      "R² Gap: 0.0333\n"
     ]
    }
   ],
   "source": [
    "print_model_evaluation_results(underfit_results)\n",
    "print_model_evaluation_results(overfit_results)\n",
    "print_model_evaluation_results(proper_results)"
   ]
  },
  {
   "cell_type": "code",
   "execution_count": 26,
   "id": "20f7a790-f1f9-4f68-bc56-a4c2e7a5436e",
   "metadata": {},
   "outputs": [],
   "source": [
    "def log_models_to_mlflow(results):\n",
    "    mlflow.set_experiment('House Prices')\n",
    "    for name, metrics in results.items():\n",
    "        safe_name = re.sub(r'[^\\w\\s-]', '', name)\n",
    "        with mlflow.start_run(run_name=safe_name):\n",
    "            mlflow.log_metric(\"train_RMSE\", metrics['train']['RMSE'])\n",
    "            mlflow.log_metric(\"train_MAE\", metrics['train']['MAE'])\n",
    "            mlflow.log_metric(\"train_R2\", metrics['train']['R2'])\n",
    "            \n",
    "            mlflow.log_metric(\"val_RMSE\", metrics['validation']['RMSE'])\n",
    "            mlflow.log_metric(\"val_MAE\", metrics['validation']['MAE'])\n",
    "            mlflow.log_metric(\"val_R2\", metrics['validation']['R2'])\n",
    "            \n",
    "            mlflow.log_metric(\"RMSE_Gap\", metrics['gap']['RMSE_gap'])\n",
    "            mlflow.log_metric(\"R2_Gap\", metrics['gap']['R2_gap'])\n",
    "            \n",
    "            print(f\"Logged {name} to MLflow as a separate experiment\")"
   ]
  },
  {
   "cell_type": "code",
   "execution_count": 27,
   "id": "e2dca16c-fce9-4579-b4b7-e5b1ce326067",
   "metadata": {},
   "outputs": [
    {
     "name": "stdout",
     "output_type": "stream",
     "text": [
      "Logged Constant Predictor to MLflow as a separate experiment\n",
      "🏃 View run Constant Predictor at: https://dagshub.com/egval20/ml_Assignment1.mlflow/#/experiments/0/runs/000a75e425044ef1bcf28e438293f34e\n",
      "🧪 View experiment at: https://dagshub.com/egval20/ml_Assignment1.mlflow/#/experiments/0\n",
      "Logged Polynomial Regression (Degree 5) to MLflow as a separate experiment\n",
      "🏃 View run Polynomial Regression Degree 5 at: https://dagshub.com/egval20/ml_Assignment1.mlflow/#/experiments/0/runs/76b267d21a5449b2b6a8e218c4d79618\n",
      "🧪 View experiment at: https://dagshub.com/egval20/ml_Assignment1.mlflow/#/experiments/0\n",
      "Logged Linear Regression to MLflow as a separate experiment\n",
      "🏃 View run Linear Regression at: https://dagshub.com/egval20/ml_Assignment1.mlflow/#/experiments/0/runs/0d832c4d75044d09bfdd73bd1a219a14\n",
      "🧪 View experiment at: https://dagshub.com/egval20/ml_Assignment1.mlflow/#/experiments/0\n",
      "Logged Ridge Regression to MLflow as a separate experiment\n",
      "🏃 View run Ridge Regression at: https://dagshub.com/egval20/ml_Assignment1.mlflow/#/experiments/0/runs/294a2ecf5ed84978b51aa31afbce05fa\n",
      "🧪 View experiment at: https://dagshub.com/egval20/ml_Assignment1.mlflow/#/experiments/0\n"
     ]
    }
   ],
   "source": [
    "log_models_to_mlflow(underfit_results)\n",
    "log_models_to_mlflow(overfit_results)\n",
    "log_models_to_mlflow(proper_results)"
   ]
  }
 ],
 "metadata": {
  "kernelspec": {
   "display_name": "ml2025",
   "language": "python",
   "name": "ml2025"
  },
  "language_info": {
   "codemirror_mode": {
    "name": "ipython",
    "version": 3
   },
   "file_extension": ".py",
   "mimetype": "text/x-python",
   "name": "python",
   "nbconvert_exporter": "python",
   "pygments_lexer": "ipython3",
   "version": "3.12.3"
  }
 },
 "nbformat": 4,
 "nbformat_minor": 5
}
